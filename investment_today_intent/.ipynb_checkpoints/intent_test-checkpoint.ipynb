{
 "cells": [
  {
   "cell_type": "code",
   "execution_count": 8,
   "metadata": {},
   "outputs": [],
   "source": [
    "import requests\n",
    "import time\n",
    "url = \"http://192.168.3.134:8085/nlp/intent\""
   ]
  },
  {
   "cell_type": "code",
   "execution_count": 9,
   "metadata": {},
   "outputs": [
    {
     "name": "stdout",
     "output_type": "stream",
     "text": [
      "{'data': [['基本面分析'], ['基本面分析'], ['基本面分析'], ['资金流向']], 'code': 0}\n",
      "0.04297327995300293\n"
     ]
    }
   ],
   "source": [
    "datas = [ '万科基本面分析', '定义 stock基本面分析', 'stock基本面分析', '看下神州高铁近期的资金流向']\n",
    "\n",
    "start_time = time.time()\n",
    "\n",
    "intent_ret = requests.post(url, json={'data': datas})\n",
    "res = intent_ret.json()\n",
    "\n",
    "print(res)\n",
    "\n",
    "end_time=time.time()\n",
    "\n",
    "print(end_time-start_time)\n"
   ]
  },
  {
   "cell_type": "code",
   "execution_count": null,
   "metadata": {},
   "outputs": [],
   "source": []
  }
 ],
 "metadata": {
  "kernelspec": {
   "display_name": "Python 3",
   "language": "python",
   "name": "python3"
  },
  "language_info": {
   "codemirror_mode": {
    "name": "ipython",
    "version": 3
   },
   "file_extension": ".py",
   "mimetype": "text/x-python",
   "name": "python",
   "nbconvert_exporter": "python",
   "pygments_lexer": "ipython3",
   "version": "3.6.4"
  }
 },
 "nbformat": 4,
 "nbformat_minor": 2
}
